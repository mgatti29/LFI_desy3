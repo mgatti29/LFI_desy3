{
 "cells": [
  {
   "cell_type": "markdown",
   "id": "5c15fd89-f8fb-481d-9b74-ed13d55be23d",
   "metadata": {},
   "source": [
    "# test cls"
   ]
  },
  {
   "cell_type": "code",
   "execution_count": 1,
   "id": "5cb3800a-cf49-4ad1-b448-9e3e80214bb6",
   "metadata": {},
   "outputs": [
    {
     "data": {
      "text/plain": [
       "'\\nNeed to re-run cosmosis and measurements.\\n\\nIt should be fast, though.\\n\\npython test_Dirac_cl_final.py\\n\\n\\nsource /dvs_ro/cfs/projectdirs/des/zuntz/cosmosis-global/setup-cosmosis3\\n/global/cfs/cdirs/des/mxlin/temp\\n'"
      ]
     },
     "execution_count": 1,
     "metadata": {},
     "output_type": "execute_result"
    }
   ],
   "source": [
    "'''\n",
    "Need to re-run cosmosis and measurements\n",
    "\n",
    "It should be fast, though.\n",
    "\n",
    "python test_Dirac_cl_final.py\n",
    "\n",
    "\n",
    "source /dvs_ro/cfs/projectdirs/des/zuntz/cosmosis-global/setup-cosmosis3\n",
    "/global/cfs/cdirs/des/mxlin/temp\n",
    "'''"
   ]
  },
  {
   "cell_type": "code",
   "execution_count": 2,
   "id": "cbe9600b-d522-42d2-90db-480e42b43951",
   "metadata": {
    "tags": []
   },
   "outputs": [
    {
     "name": "stderr",
     "output_type": "stream",
     "text": [
      "/global/homes/m/mgatti/.conda/envs/bfd_env3/lib/python3.6/site-packages/pyfits/__init__.py:22: PyFITSDeprecationWarning: PyFITS is deprecated, please use astropy.io.fits\n",
      "  PyFITSDeprecationWarning)  # noqa\n"
     ]
    },
    {
     "name": "stdout",
     "output_type": "stream",
     "text": [
      "missing pys2let\n",
      "missing pywph\n"
     ]
    }
   ],
   "source": [
    "%matplotlib inline\n",
    "import matplotlib.pyplot as plt\n",
    "import cosmolopy\n",
    "import h5py as h5\n",
    "import numpy as np\n",
    "import healpy as hp\n",
    "from Moments_analysis import convert_to_pix_coord, make_covariance\n",
    "from Moments_analysis import moments_map\n",
    "import pyfits as pf\n",
    "import cosmolopy.distance as cd\n",
    "import pickle\n",
    "def save_obj(name, obj):\n",
    "    with open(name + '.pkl', 'wb') as f:\n",
    "        pickle.dump(obj, f, protocol = 2)\n",
    "        \n",
    "def load_obj(name):\n",
    "    with open(name + '.pkl', 'rb') as f:\n",
    "        return pickle.load(f)#, encoding='latin1')\n",
    "\n",
    "import healpy as hp\n",
    "\n",
    "'''\n",
    "This notebook checks if the modelling of the mask effects is adequate.\n",
    "\n",
    "'''\n",
    "mask_ = load_obj('/global/cfs/cdirs/des/mass_maps/Maps_final/mask_DES_y3_512')\n",
    "            "
   ]
  },
  {
   "cell_type": "code",
   "execution_count": 3,
   "id": "4a305177-5e23-4056-9bc1-29c830646c80",
   "metadata": {
    "tags": []
   },
   "outputs": [],
   "source": [
    "import numpy as np\n",
    "import glob \n",
    "import scipy \n",
    "from  scipy.interpolate import interp1d\n",
    "files_ = glob.glob('/global/cfs/cdirs/des/mgatti/Dirac/output_moments_new_dirac_C///*')\n",
    "files = []\n",
    "for f in files_:\n",
    "    if 'noiserel30' in f and 'rel0.' in f:\n",
    "        files.append(f)\n",
    "\n",
    "run_count = 0\n",
    "f = 0\n",
    "training_points = len(files)\n"
   ]
  },
  {
   "cell_type": "code",
   "execution_count": 6,
   "id": "a613c0e2-28e9-4857-aa29-a68adc906f13",
   "metadata": {
    "tags": []
   },
   "outputs": [],
   "source": [
    "#output_predictions = '/global/cfs/cdirs/des/mgatti/Dirac/output_folder_cl_predictions_Dirac_sept23/'\n",
    "output_predictions2 = '/global/cfs/cdirs/des/mgatti/Dirac/output_folder_cl_predictions_Dirac_sept23/'\n",
    "output_predictions = '/global/cfs/cdirs/des/mgatti/Dirac/output_folder_cl_predictions_Dirac_sept23_2_noz25/'\n",
    "\n",
    "\n",
    "\n",
    "output_measurements= '/pscratch/sd/m/mgatti/pseudo_cl_test_Dirac_sept23/'\n",
    "output_measurements2= '/pscratch/sd/m/mgatti/pseudo_cl_test_Dirac_sept23/'\n",
    "#output_measurements2= '/pscratch/sd/m/mgatti/pseudo_cl_test_Dirac_sept23_3/'\n",
    "\n",
    "#M = np.load('/pscratch/sd/m/mgatti/pseudo_cl_test_Dirac1/M512_2.npy',allow_pickle=True)\n",
    "#MEE=M[:999,:][:,:999]\n",
    "#                          fl = np.matmul(fl,MEE.T)*msh[b-1]*msh[b-1]\n",
    "                                #"
   ]
  },
  {
   "cell_type": "code",
   "execution_count": 23,
   "id": "8b3dda31-0628-432e-a816-758533da90f9",
   "metadata": {
    "tags": []
   },
   "outputs": [],
   "source": [
    "u = pf.open('/global/cfs/cdirs/des/mgatti/Dirac_mocks_2/runsC/run004/kappa_84_512.fits')\n",
    "u1 = pf.open('/global/cfs/cdirs/des/mgatti/Dirac_mocks/runsC/run004/kappa_84_512.fits')"
   ]
  },
  {
   "cell_type": "code",
   "execution_count": 24,
   "id": "a5284c8c-d1c6-492a-9716-492cfc47f32e",
   "metadata": {
    "tags": []
   },
   "outputs": [
    {
     "data": {
      "text/plain": [
       "array([0.99491954, 0.99482006, 0.99488754, ..., 0.99480379, 0.9949266 ,\n",
       "       0.99482813])"
      ]
     },
     "execution_count": 24,
     "metadata": {},
     "output_type": "execute_result"
    }
   ],
   "source": [
    "u[1].data['T']/u1[1].data['T']"
   ]
  },
  {
   "cell_type": "code",
   "execution_count": 11,
   "id": "ffbceb2c-fe0c-43c6-8030-2a3339a1df23",
   "metadata": {
    "tags": []
   },
   "outputs": [],
   "source": [
    "folders = ['C','E','I','J','K','L','M','N','O','P','Q','R','S']\n",
    "params_ref = dict()\n",
    "for fold in folders:\n",
    "    params_ref[fold] = dict()\n",
    "    \n",
    "    f = open(('/global/homes/m/mgatti/Mass_Mapping/peaks/params_run_1_Niall_{0}.txt'.format(fold)),'r')\n",
    "    mv_ = []\n",
    "    h_ = []\n",
    "    ob_ = []\n",
    "    ns_ = []\n",
    "    w_ = []\n",
    "    om_ =[]\n",
    "    sigma8_ = []\n",
    "    for i,f_ in enumerate(f):\n",
    "        if i>0:\n",
    "            ns_.append(float(f_.split(',')[5]))\n",
    "\n",
    "            h_.append(float(f_.split(',')[4]))\n",
    "            om_.append(float(f_.split(',')[0]))\n",
    "            ob_.append(float(f_.split(',')[3]))\n",
    "            w_.append(float(f_.split(',')[2]))\n",
    "            sigma8_.append(float(f_.split(',')[1]))\n",
    "            try:\n",
    "                mv_.append(float(f_.split(',')[6]))\n",
    "            except:\n",
    "                mv_.append(0.06)\n",
    "        \n",
    "    params_ref[fold]['om'] = np.array(om_)\n",
    "    params_ref[fold]['sigma8'] = np.array(sigma8_)\n",
    "    params_ref[fold]['h'] = np.array(h_)\n",
    "    params_ref[fold]['w'] = np.array(w_)\n",
    "    params_ref[fold]['ob'] = np.array(ob_)\n",
    "    params_ref[fold]['ns'] = np.array(ns_)\n",
    "    params_ref[fold]['mv'] = np.array(mv_)\n",
    "    \n"
   ]
  },
  {
   "cell_type": "code",
   "execution_count": 38,
   "id": "33c9e4ed-1e8e-44c3-b514-10fc2fe899fb",
   "metadata": {
    "tags": []
   },
   "outputs": [],
   "source": [
    "import glob\n",
    "import healpy as hp\n",
    "import os\n",
    "import scipy\n",
    "from scipy.interpolate import interp1d\n",
    "cl_pix = hp.sphtfunc.pixwin(512)\n",
    "\n",
    "\n",
    "f = glob.glob(output_predictions+'/*')\n",
    "\n",
    "ratios_ = dict()\n",
    "for b in  range(1,5):\n",
    "    ratios_[b] = []\n",
    "    \n",
    "ratios_old = dict()\n",
    "for b in  range(1,5):\n",
    "    ratios_old[b] = []\n",
    "    \n",
    "    \n",
    "mv_ = []\n",
    "h_ = []\n",
    "ob_ = []\n",
    "ns_ = []\n",
    "w_ = []\n",
    "om_ =[]\n",
    "sigma_8_ = []   \n",
    "for f_ in f[:]:\n",
    "    folder_ = f_.split('runs')[1].split('_')[0]\n",
    "    mock_number =  int(f_.split('run')[2].split('_')[0])\n",
    "   # if folder_ != 'C':\n",
    "    if os.path.exists(output_measurements+'/k_{0}_{1}.npy'.format(folder_,mock_number)):\n",
    "            try:\n",
    "                #'''\n",
    "                # and now get the measurements\n",
    "                m = np.load(output_measurements2+'/k_{0}_{1}.npy'.format(folder_,mock_number),allow_pickle=True).item()\n",
    "                m_old = np.load(output_measurements+'/k_{0}_{1}.npy'.format(folder_,mock_number),allow_pickle=True).item()\n",
    "\n",
    "\n",
    "                om_.append(params_ref[folder_]['om'][mock_number-1])\n",
    "                sigma_8_.append(params_ref[folder_]['sigma8'][mock_number-1])\n",
    "                ns_.append(params_ref[folder_]['ns'][mock_number-1])\n",
    "                h_.append(params_ref[folder_]['h'][mock_number-1])\n",
    "                w_.append(params_ref[folder_]['w'][mock_number-1])\n",
    "                ob_.append(params_ref[folder_]['ob'][mock_number-1])\n",
    "                for b in  range(1,5):\n",
    "                    base = f_+'/shear_cl/bin_{0}_{0}.txt'.format(b)\n",
    "                    base_l =  f_+'/shear_cl/ell.txt'\n",
    "                    cl = np.loadtxt(base)\n",
    "                    ell = np.loadtxt(base_l)\n",
    "                    mask = ell< 30000\n",
    "                    f = interp1d(ell[mask],(cl*ell)[mask])\n",
    "                    ll = np.arange(1,2000)\n",
    "#\n",
    "                    theory = f(ll)[:999]*cl_pix[1:1000]**2/ll[:999]\n",
    "                   # theory = f(ll)[1:1000]*cl_pix[1:1000]**2/ll[1:1000]\n",
    "#\n",
    "#\n",
    "                    #if b ==1:\n",
    "                    #    a = m['{0}_{0}'.format(b)][1:1000]*1.02/theory\n",
    "                    #    a = savgol_filter(a, 9, 3)\n",
    "                    #    ratios_[b].append(a)\n",
    "                    #else:\n",
    "                    ratios_[b].append(m['{0}_{0}'.format(b)][1:1000]/theory)\n",
    "\n",
    "\n",
    "                #'''\n",
    "\n",
    "                #m_old = np.load(output_measurements+'/k_{0}_{1}.npy'.format(folder_,mock_number),allow_pickle=True).item()\n",
    "\n",
    "                # old\n",
    "                f_1 = output_predictions2+f_.split(output_predictions)[1]\n",
    "                \n",
    "                folder_ = f_1.split('runs')[1].split('_')[0]\n",
    "                mock_number =  int(f_1.split('run')[2].split('_')[0])\n",
    "                # and now get the measurements\n",
    "\n",
    "\n",
    "\n",
    "                for b in  range(1,5):\n",
    "                    base = f_1+'/shear_cl/bin_{0}_{0}.txt'.format(b)\n",
    "                    base_l =  f_1+'/shear_cl/ell.txt'\n",
    "                    cl = np.loadtxt(base)\n",
    "                    ell = np.loadtxt(base_l)\n",
    "                    mask = ell< 30000\n",
    "                    f = interp1d(ell[mask],(cl*ell)[mask])\n",
    "                    ll = np.arange(1,2000)\n",
    "\n",
    "                    theory = f(ll)[:999]*cl_pix[1:1000]**2/ll[:999]\n",
    "\n",
    "                    ratios_old[b].append(m_old['{0}_{0}'.format(b)][1:1000]/theory)\n",
    "\n",
    "                    \n",
    "                    #theory = f(ll)[1:1000]*cl_pix[1:1000]**2/ll[1:1000]\n",
    "\n",
    "                    #ratios_[b].append(m_old['{0}_{0}'.format(b)][1:1000]/theory)\n",
    "\n",
    "            except:\n",
    "                pass"
   ]
  },
  {
   "cell_type": "code",
   "execution_count": 41,
   "id": "b2047684-ee6e-4bef-a1ec-1f0b1a58618c",
   "metadata": {
    "tags": []
   },
   "outputs": [
    {
     "name": "stdout",
     "output_type": "stream",
     "text": [
      "(512, 999)\n"
     ]
    }
   ],
   "source": [
    "print (np.array(ratios_old[1]).shape)\n",
    "\n",
    "mask2 = ((np.array(om_)-0.3)**2 <0.1**2) & ((np.array(sigma_8_)-0.8)**2<0.1**2) & ((np.array(w_)+1)**2<0.3**2)\n",
    "len(mask[mask])\n",
    "\n",
    "mask2 = ((np.array(om_)-0.3)**2 <0.05**2) & ((np.array(sigma_8_)-0.8)**2<0.1**2) & ((np.array(w_)+1)**2<0.1**2)\n",
    "len(mask[mask])\n",
    "#mask = mask ==mask\n",
    "mask = mask2 ==mask2\n",
    "mask = np.arange(np.array(ratios_old[1]).shape[0]) == np.arange(np.array(ratios_old[1]).shape[0])"
   ]
  },
  {
   "cell_type": "code",
   "execution_count": 47,
   "id": "6d59b55f-b175-4bd7-b46e-05f6efc37685",
   "metadata": {
    "tags": []
   },
   "outputs": [],
   "source": [
    "rr = np.load('/pscratch/sd/m/mgatti/rr.npy',allow_pickle=True)"
   ]
  },
  {
   "cell_type": "code",
   "execution_count": 50,
   "id": "81c0805c-d314-42b8-aff8-4aa1a01388af",
   "metadata": {
    "tags": []
   },
   "outputs": [
    {
     "data": {
      "text/plain": [
       "Text(0, 0.5, '$C_{\\\\ell}$ measured / $C_{\\\\ell}$ theory')"
      ]
     },
     "execution_count": 50,
     "metadata": {},
     "output_type": "execute_result"
    },
    {
     "data": {
      "image/png": "[encoded data removed]",
      "text/plain": [
       "<Figure size 360x360 with 4 Axes>"
      ]
     },
     "metadata": {
      "needs_background": "light"
     },
     "output_type": "display_data"
    }
   ],
   "source": [
    "import matplotlib.pyplot as plt\n",
    "fig, ax = plt.subplots(2,2, figsize=(5,5.),sharex = True,sharey = True)\n",
    "from scipy.signal import savgol_filter\n",
    "\n",
    "                 \n",
    "                \n",
    "#om_t = np.array(om_t)\n",
    "tomo_bin = 1\n",
    "for i in range(2):\n",
    "    for j in range(2):\n",
    "       \n",
    "    \n",
    "            #err = np.std(np.array(ratio[tomo_bin])[:,:],axis=0)/np.sqrt(np.array(ratio[tomo_bin]).shape[0])\n",
    "            #dx = savgol_filter(np.mean(np.array(ratio[tomo_bin])[:,:],axis=0), 5, 3)\n",
    "            \n",
    "            \n",
    "            x,y = rr[tomo_bin-1]\n",
    "            y[-1] = y[-2]\n",
    "            y = 1/y\n",
    "            #dx = np.median(np.array(ratios_[tomo_bin])[mask,:],axis=0)\n",
    "            \n",
    "            \n",
    "            #ax[i,j].plot(ll[1:1000],dx) \n",
    "            \n",
    "            uu = 1.\n",
    "            #if tomo_bin ==1:\n",
    "            #    uu = 1.02\n",
    "            dx = np.mean(np.array(ratios_[tomo_bin])[:,:],axis=0)*uu\n",
    "            dx = savgol_filter(dx, 5, 3)\n",
    "            ax[i,j].plot(ll[1:1000],dx) \n",
    "            \n",
    "            dx = np.mean(np.array(ratios_[tomo_bin])[mask2,:],axis=0)*uu\n",
    "            dx = savgol_filter(dx, 5, 3)\n",
    "            ax[i,j].plot(ll[1:1000],dx)  \n",
    "            \n",
    "            ax[i,j].plot(x,y,label = 'no baryons/baryons') \n",
    "            #dx = np.mean(np.array(ratios_[tomo_bin])[~mask2,:],axis=0)*uu\n",
    "            #dx = savgol_filter(dx, 11, 3)\n",
    "            #ax[i,j].plot(ll[1:1000],dx) \n",
    "            \n",
    "            #dx = np.mean(np.array(ratios_old[tomo_bin])[:,:],axis=0)*uu\n",
    "            #ax[i,j].plot(ll[1:1000],dx) \n",
    "            \n",
    "            \n",
    "            \n",
    "            ax[i,j].plot(ll[1:1000],np.ones(len(ll[1:1000])),color ='black')\n",
    "            ax[i,j].plot(ll[1:1000],1.02*np.ones(len(ll[1:1000])),color ='grey')\n",
    "            ax[i,j].plot(ll[1:1000],0.98*np.ones(len(ll[1:1000])),color ='grey')\n",
    "\n",
    "            ax[i,j].set_xscale('log')\n",
    "            ax[i,j].set_xlim([10,1000])      \n",
    "            ax[i,j].set_ylim([0.9,1.1])      \n",
    "            ax[i,j].set_title('bin {0}{0}'.format(tomo_bin,tomo_bin))\n",
    "            \n",
    "            \n",
    "            tomo_bin +=1\n",
    "ax[0,0].legend()\n",
    "ax[0,0].set_ylabel(r'$C_{\\ell}$ measured / $C_{\\ell}$ theory')   \n",
    "ax[1,0].set_ylabel(r'$C_{\\ell}$ measured / $C_{\\ell}$ theory')"
   ]
  },
  {
   "cell_type": "code",
   "execution_count": null,
   "id": "8266f3c3-0f19-4bc9-bbf8-017de442aee8",
   "metadata": {},
   "outputs": [],
   "source": []
  }
 ],
 "metadata": {
  "kernelspec": {
   "display_name": "bfd_env3",
   "language": "python",
   "name": "bfd_env3"
  },
  "language_info": {
   "codemirror_mode": {
    "name": "ipython",
    "version": 3
   },
   "file_extension": ".py",
   "mimetype": "text/x-python",
   "name": "python",
   "nbconvert_exporter": "python",
   "pygments_lexer": "ipython3",
   "version": "3.6.15"
  }
 },
 "nbformat": 4,
 "nbformat_minor": 5
}
